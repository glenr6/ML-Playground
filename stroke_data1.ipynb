{
  "nbformat": 4,
  "nbformat_minor": 0,
  "metadata": {
    "colab": {
      "provenance": [],
      "authorship_tag": "ABX9TyMP72bc+VckWpG707dP7tRd",
      "include_colab_link": true
    },
    "kernelspec": {
      "name": "python3",
      "display_name": "Python 3"
    },
    "language_info": {
      "name": "python"
    }
  },
  "cells": [
    {
      "cell_type": "markdown",
      "metadata": {
        "id": "view-in-github",
        "colab_type": "text"
      },
      "source": [
        "<a href=\"https://colab.research.google.com/github/glenr6/ML-Playground/blob/main/stroke_data1.ipynb\" target=\"_parent\"><img src=\"https://colab.research.google.com/assets/colab-badge.svg\" alt=\"Open In Colab\"/></a>"
      ]
    },
    {
      "cell_type": "markdown",
      "source": [
        "# **Stroke Prediction Supervised Machine Learning Model**"
      ],
      "metadata": {
        "id": "8l7Q6_GTfo8o"
      }
    },
    {
      "cell_type": "markdown",
      "source": [
        "Research Question: Can we build a Supervised Machine Learning model that is more than 95% accurate at predicting if a person will have a stroke based on some available "
      ],
      "metadata": {
        "id": "FPK1zgbfii33"
      }
    },
    {
      "cell_type": "code",
      "execution_count": 6,
      "metadata": {
        "id": "Zlz1AB7jLevQ"
      },
      "outputs": [],
      "source": [
        "#importing libraries and the modified dataset.\n",
        "import matplotlib.pyplot as plt\n",
        "import pandas as pd\n",
        "\n",
        "data = pd.read_csv('healthcare-dataset-stroke-data-modified.csv')"
      ]
    },
    {
      "cell_type": "code",
      "source": [
        "data.head()"
      ],
      "metadata": {
        "colab": {
          "base_uri": "https://localhost:8080/",
          "height": 206
        },
        "id": "ep0UbLedkhvG",
        "outputId": "472e6474-e253-4805-b8d5-aecb93391fad"
      },
      "execution_count": 3,
      "outputs": [
        {
          "output_type": "execute_result",
          "data": {
            "text/plain": [
              "      id  is_male   age  hypertension  heart_disease  has_been_married  \\\n",
              "0  56420        1  17.0             1              0                 0   \n",
              "1  51856        1  38.0             1              0                 1   \n",
              "2  41097        0  23.0             1              0                 0   \n",
              "3    545        1  42.0             0              0                 1   \n",
              "4  37759        0  53.0             0              0                 1   \n",
              "\n",
              "   is_urban  avg_glucose_level   bmi  smoke_score  stroke  \n",
              "0         0              61.67  97.6            1       0  \n",
              "1         0              56.90  92.0            0       0  \n",
              "2         1              70.03  78.0            3       0  \n",
              "3         0             210.48  71.9            0       0  \n",
              "4         0              72.63  66.8            1       0  "
            ],
            "text/html": [
              "\n",
              "  <div id=\"df-3722472e-ce61-4961-b5e2-787ee6e0273d\">\n",
              "    <div class=\"colab-df-container\">\n",
              "      <div>\n",
              "<style scoped>\n",
              "    .dataframe tbody tr th:only-of-type {\n",
              "        vertical-align: middle;\n",
              "    }\n",
              "\n",
              "    .dataframe tbody tr th {\n",
              "        vertical-align: top;\n",
              "    }\n",
              "\n",
              "    .dataframe thead th {\n",
              "        text-align: right;\n",
              "    }\n",
              "</style>\n",
              "<table border=\"1\" class=\"dataframe\">\n",
              "  <thead>\n",
              "    <tr style=\"text-align: right;\">\n",
              "      <th></th>\n",
              "      <th>id</th>\n",
              "      <th>is_male</th>\n",
              "      <th>age</th>\n",
              "      <th>hypertension</th>\n",
              "      <th>heart_disease</th>\n",
              "      <th>has_been_married</th>\n",
              "      <th>is_urban</th>\n",
              "      <th>avg_glucose_level</th>\n",
              "      <th>bmi</th>\n",
              "      <th>smoke_score</th>\n",
              "      <th>stroke</th>\n",
              "    </tr>\n",
              "  </thead>\n",
              "  <tbody>\n",
              "    <tr>\n",
              "      <th>0</th>\n",
              "      <td>56420</td>\n",
              "      <td>1</td>\n",
              "      <td>17.0</td>\n",
              "      <td>1</td>\n",
              "      <td>0</td>\n",
              "      <td>0</td>\n",
              "      <td>0</td>\n",
              "      <td>61.67</td>\n",
              "      <td>97.6</td>\n",
              "      <td>1</td>\n",
              "      <td>0</td>\n",
              "    </tr>\n",
              "    <tr>\n",
              "      <th>1</th>\n",
              "      <td>51856</td>\n",
              "      <td>1</td>\n",
              "      <td>38.0</td>\n",
              "      <td>1</td>\n",
              "      <td>0</td>\n",
              "      <td>1</td>\n",
              "      <td>0</td>\n",
              "      <td>56.90</td>\n",
              "      <td>92.0</td>\n",
              "      <td>0</td>\n",
              "      <td>0</td>\n",
              "    </tr>\n",
              "    <tr>\n",
              "      <th>2</th>\n",
              "      <td>41097</td>\n",
              "      <td>0</td>\n",
              "      <td>23.0</td>\n",
              "      <td>1</td>\n",
              "      <td>0</td>\n",
              "      <td>0</td>\n",
              "      <td>1</td>\n",
              "      <td>70.03</td>\n",
              "      <td>78.0</td>\n",
              "      <td>3</td>\n",
              "      <td>0</td>\n",
              "    </tr>\n",
              "    <tr>\n",
              "      <th>3</th>\n",
              "      <td>545</td>\n",
              "      <td>1</td>\n",
              "      <td>42.0</td>\n",
              "      <td>0</td>\n",
              "      <td>0</td>\n",
              "      <td>1</td>\n",
              "      <td>0</td>\n",
              "      <td>210.48</td>\n",
              "      <td>71.9</td>\n",
              "      <td>0</td>\n",
              "      <td>0</td>\n",
              "    </tr>\n",
              "    <tr>\n",
              "      <th>4</th>\n",
              "      <td>37759</td>\n",
              "      <td>0</td>\n",
              "      <td>53.0</td>\n",
              "      <td>0</td>\n",
              "      <td>0</td>\n",
              "      <td>1</td>\n",
              "      <td>0</td>\n",
              "      <td>72.63</td>\n",
              "      <td>66.8</td>\n",
              "      <td>1</td>\n",
              "      <td>0</td>\n",
              "    </tr>\n",
              "  </tbody>\n",
              "</table>\n",
              "</div>\n",
              "      <button class=\"colab-df-convert\" onclick=\"convertToInteractive('df-3722472e-ce61-4961-b5e2-787ee6e0273d')\"\n",
              "              title=\"Convert this dataframe to an interactive table.\"\n",
              "              style=\"display:none;\">\n",
              "        \n",
              "  <svg xmlns=\"http://www.w3.org/2000/svg\" height=\"24px\"viewBox=\"0 0 24 24\"\n",
              "       width=\"24px\">\n",
              "    <path d=\"M0 0h24v24H0V0z\" fill=\"none\"/>\n",
              "    <path d=\"M18.56 5.44l.94 2.06.94-2.06 2.06-.94-2.06-.94-.94-2.06-.94 2.06-2.06.94zm-11 1L8.5 8.5l.94-2.06 2.06-.94-2.06-.94L8.5 2.5l-.94 2.06-2.06.94zm10 10l.94 2.06.94-2.06 2.06-.94-2.06-.94-.94-2.06-.94 2.06-2.06.94z\"/><path d=\"M17.41 7.96l-1.37-1.37c-.4-.4-.92-.59-1.43-.59-.52 0-1.04.2-1.43.59L10.3 9.45l-7.72 7.72c-.78.78-.78 2.05 0 2.83L4 21.41c.39.39.9.59 1.41.59.51 0 1.02-.2 1.41-.59l7.78-7.78 2.81-2.81c.8-.78.8-2.07 0-2.86zM5.41 20L4 18.59l7.72-7.72 1.47 1.35L5.41 20z\"/>\n",
              "  </svg>\n",
              "      </button>\n",
              "      \n",
              "  <style>\n",
              "    .colab-df-container {\n",
              "      display:flex;\n",
              "      flex-wrap:wrap;\n",
              "      gap: 12px;\n",
              "    }\n",
              "\n",
              "    .colab-df-convert {\n",
              "      background-color: #E8F0FE;\n",
              "      border: none;\n",
              "      border-radius: 50%;\n",
              "      cursor: pointer;\n",
              "      display: none;\n",
              "      fill: #1967D2;\n",
              "      height: 32px;\n",
              "      padding: 0 0 0 0;\n",
              "      width: 32px;\n",
              "    }\n",
              "\n",
              "    .colab-df-convert:hover {\n",
              "      background-color: #E2EBFA;\n",
              "      box-shadow: 0px 1px 2px rgba(60, 64, 67, 0.3), 0px 1px 3px 1px rgba(60, 64, 67, 0.15);\n",
              "      fill: #174EA6;\n",
              "    }\n",
              "\n",
              "    [theme=dark] .colab-df-convert {\n",
              "      background-color: #3B4455;\n",
              "      fill: #D2E3FC;\n",
              "    }\n",
              "\n",
              "    [theme=dark] .colab-df-convert:hover {\n",
              "      background-color: #434B5C;\n",
              "      box-shadow: 0px 1px 3px 1px rgba(0, 0, 0, 0.15);\n",
              "      filter: drop-shadow(0px 1px 2px rgba(0, 0, 0, 0.3));\n",
              "      fill: #FFFFFF;\n",
              "    }\n",
              "  </style>\n",
              "\n",
              "      <script>\n",
              "        const buttonEl =\n",
              "          document.querySelector('#df-3722472e-ce61-4961-b5e2-787ee6e0273d button.colab-df-convert');\n",
              "        buttonEl.style.display =\n",
              "          google.colab.kernel.accessAllowed ? 'block' : 'none';\n",
              "\n",
              "        async function convertToInteractive(key) {\n",
              "          const element = document.querySelector('#df-3722472e-ce61-4961-b5e2-787ee6e0273d');\n",
              "          const dataTable =\n",
              "            await google.colab.kernel.invokeFunction('convertToInteractive',\n",
              "                                                     [key], {});\n",
              "          if (!dataTable) return;\n",
              "\n",
              "          const docLinkHtml = 'Like what you see? Visit the ' +\n",
              "            '<a target=\"_blank\" href=https://colab.research.google.com/notebooks/data_table.ipynb>data table notebook</a>'\n",
              "            + ' to learn more about interactive tables.';\n",
              "          element.innerHTML = '';\n",
              "          dataTable['output_type'] = 'display_data';\n",
              "          await google.colab.output.renderOutput(dataTable, element);\n",
              "          const docLink = document.createElement('div');\n",
              "          docLink.innerHTML = docLinkHtml;\n",
              "          element.appendChild(docLink);\n",
              "        }\n",
              "      </script>\n",
              "    </div>\n",
              "  </div>\n",
              "  "
            ]
          },
          "metadata": {},
          "execution_count": 3
        }
      ]
    },
    {
      "cell_type": "markdown",
      "source": [
        "Data Explination: \n",
        "\n",
        "The dataset contains 4900 records with features such as gender, age, hypertension, heart disease, marital status, urban residence, average glucose level, BMI, and smoking habits. The target variable is the presence of a stroke, represented as binary values (0 or 1).\n",
        "\n",
        "Data transformations: \n",
        "\n",
        "The following strings were turned into Booleans: is_male, is_urban, has_been_married, hypertension, heart_disease. \n",
        "\n",
        "smoke_score : never = 0 unknown = 1 former = 2 current = 3\n",
        "\n",
        "Entries with N/A in the BMI Column were dropped"
      ],
      "metadata": {
        "id": "i8eM-mxSizxu"
      }
    },
    {
      "cell_type": "code",
      "source": [
        "#preparing the dataset for the model, splitting into test and training samples\n",
        "x = data.drop(columns=[\"stroke\",\"id\" ]).values\n",
        "y = data[\"stroke\"].values\n",
        "\n",
        "from sklearn.model_selection import train_test_split\n",
        "\n",
        "x_train, x_test, y_train, y_test = train_test_split(x, y, test_size=0.2)"
      ],
      "metadata": {
        "id": "8ixJsJ-cLr-a"
      },
      "execution_count": 4,
      "outputs": []
    },
    {
      "cell_type": "code",
      "source": [
        "# Visualizing the proportion of Stroke victims and non-stroke victims in the dataset\n",
        "\n",
        "stroke_count = data['stroke'].value_counts()\n",
        "had_stroke = stroke_count.loc[1]\n",
        "no_stroke = stroke_count.loc[0]\n",
        "plt.bar(['Had Stroke', 'No Stroke'], [had_stroke, no_stroke])\n",
        "plt.show()\n"
      ],
      "metadata": {
        "colab": {
          "base_uri": "https://localhost:8080/",
          "height": 430
        },
        "id": "CtPyX82vmkey",
        "outputId": "b99ccb29-1635-4a16-ce7e-02ea96f7bcf7"
      },
      "execution_count": 7,
      "outputs": [
        {
          "output_type": "display_data",
          "data": {
            "text/plain": [
              "<Figure size 640x480 with 1 Axes>"
            ],
            "image/png": "[encoded data removed]"
          },
          "metadata": {}
        }
      ]
    },
    {
      "cell_type": "code",
      "source": [
        "# Visualizing the ratio of M/F in the dataset\n",
        "\n",
        "gender_counts = data['is_male'].value_counts()\n",
        "male_count = gender_counts.loc[1]\n",
        "female_count = gender_counts.loc[0]\n",
        "plt.bar(['Male', 'Female'], [male_count, female_count])\n",
        "plt.show()\n",
        "\n"
      ],
      "metadata": {
        "colab": {
          "base_uri": "https://localhost:8080/",
          "height": 430
        },
        "id": "zpcrSSxmmllR",
        "outputId": "fda33412-e80d-4f67-8053-f525eb8866c8"
      },
      "execution_count": 8,
      "outputs": [
        {
          "output_type": "display_data",
          "data": {
            "text/plain": [
              "<Figure size 640x480 with 1 Axes>"
            ],
            "image/png": "[encoded data removed]"
          },
          "metadata": {}
        }
      ]
    },
    {
      "cell_type": "code",
      "source": [
        "# Age distribution of the dataset\n",
        "\n",
        "plt.hist(data['age'], bins=30, color = 'green', edgecolor='black')\n",
        "plt.title('Age')\n",
        "plt.show()"
      ],
      "metadata": {
        "colab": {
          "base_uri": "https://localhost:8080/",
          "height": 452
        },
        "id": "O3Huqh_bnj25",
        "outputId": "bdec9e9a-acba-4d0b-ae70-405a65f85ec2"
      },
      "execution_count": 10,
      "outputs": [
        {
          "output_type": "display_data",
          "data": {
            "text/plain": [
              "<Figure size 640x480 with 1 Axes>"
            ],
            "image/png": "[encoded data removed]"
          },
          "metadata": {}
        }
      ]
    },
    {
      "cell_type": "code",
      "source": [
        "#imporiting tensorflow for the sequential model\n",
        "import tensorflow as tf"
      ],
      "metadata": {
        "id": "lOlp3eRaLr0Z"
      },
      "execution_count": 11,
      "outputs": []
    },
    {
      "cell_type": "code",
      "source": [
        "#creating the model, adding layers, and setting the parameters.\n",
        "model = tf.keras.models.Sequential()\n",
        "\n",
        "model.add(tf.keras.layers.Dense(64, activation = 'ReLU', input_shape=(x_train.shape[1],)))\n",
        "model.add(tf.keras.layers.Dense(32, activation = 'ReLU'))\n",
        "model.add(tf.keras.layers.Dense(1,activation = 'sigmoid'))\n",
        "\n",
        "\n",
        "model.compile(optimizer='adam', loss='binary_crossentropy', metrics=['accuracy'])\n",
        "\n",
        "#fitting the model\n",
        "history = model.fit(x_train, y_train, batch_size=32, epochs=50, validation_split=0.2)\n"
      ],
      "metadata": {
        "colab": {
          "base_uri": "https://localhost:8080/"
        },
        "id": "naEssuWLLrn1",
        "outputId": "ae999f0f-bb2c-430b-c3dd-3c0d2d66f9f8"
      },
      "execution_count": 14,
      "outputs": [
        {
          "output_type": "stream",
          "name": "stdout",
          "text": [
            "Epoch 1/50\n",
            "99/99 [==============================] - 1s 5ms/step - loss: 0.2433 - accuracy: 0.9538 - val_loss: 0.1859 - val_accuracy: 0.9517\n",
            "Epoch 2/50\n",
            "99/99 [==============================] - 0s 3ms/step - loss: 0.1930 - accuracy: 0.9548 - val_loss: 0.1975 - val_accuracy: 0.9517\n",
            "Epoch 3/50\n",
            "99/99 [==============================] - 0s 3ms/step - loss: 0.1933 - accuracy: 0.9522 - val_loss: 0.1871 - val_accuracy: 0.9517\n",
            "Epoch 4/50\n",
            "99/99 [==============================] - 0s 3ms/step - loss: 0.1816 - accuracy: 0.9554 - val_loss: 0.2328 - val_accuracy: 0.9517\n",
            "Epoch 5/50\n",
            "99/99 [==============================] - 0s 3ms/step - loss: 0.1984 - accuracy: 0.9532 - val_loss: 0.1874 - val_accuracy: 0.9517\n",
            "Epoch 6/50\n",
            "99/99 [==============================] - 0s 3ms/step - loss: 0.1808 - accuracy: 0.9554 - val_loss: 0.1657 - val_accuracy: 0.9517\n",
            "Epoch 7/50\n",
            "99/99 [==============================] - 0s 3ms/step - loss: 0.1683 - accuracy: 0.9551 - val_loss: 0.1783 - val_accuracy: 0.9517\n",
            "Epoch 8/50\n",
            "99/99 [==============================] - 0s 3ms/step - loss: 0.1760 - accuracy: 0.9561 - val_loss: 0.1686 - val_accuracy: 0.9517\n",
            "Epoch 9/50\n",
            "99/99 [==============================] - 0s 3ms/step - loss: 0.1791 - accuracy: 0.9567 - val_loss: 0.1710 - val_accuracy: 0.9517\n",
            "Epoch 10/50\n",
            "99/99 [==============================] - 0s 3ms/step - loss: 0.1698 - accuracy: 0.9586 - val_loss: 0.2168 - val_accuracy: 0.9517\n",
            "Epoch 11/50\n",
            "99/99 [==============================] - 0s 3ms/step - loss: 0.1805 - accuracy: 0.9564 - val_loss: 0.1662 - val_accuracy: 0.9517\n",
            "Epoch 12/50\n",
            "99/99 [==============================] - 0s 3ms/step - loss: 0.1823 - accuracy: 0.9573 - val_loss: 0.1837 - val_accuracy: 0.9517\n",
            "Epoch 13/50\n",
            "99/99 [==============================] - 0s 3ms/step - loss: 0.1682 - accuracy: 0.9580 - val_loss: 0.1749 - val_accuracy: 0.9491\n",
            "Epoch 14/50\n",
            "99/99 [==============================] - 0s 3ms/step - loss: 0.1678 - accuracy: 0.9554 - val_loss: 0.1957 - val_accuracy: 0.9402\n",
            "Epoch 15/50\n",
            "99/99 [==============================] - 0s 3ms/step - loss: 0.1750 - accuracy: 0.9557 - val_loss: 0.1751 - val_accuracy: 0.9427\n",
            "Epoch 16/50\n",
            "99/99 [==============================] - 0s 3ms/step - loss: 0.1717 - accuracy: 0.9564 - val_loss: 0.1797 - val_accuracy: 0.9491\n",
            "Epoch 17/50\n",
            "99/99 [==============================] - 0s 4ms/step - loss: 0.1715 - accuracy: 0.9548 - val_loss: 0.1720 - val_accuracy: 0.9517\n",
            "Epoch 18/50\n",
            "99/99 [==============================] - 0s 3ms/step - loss: 0.1607 - accuracy: 0.9580 - val_loss: 0.1964 - val_accuracy: 0.9517\n",
            "Epoch 19/50\n",
            "99/99 [==============================] - 0s 3ms/step - loss: 0.1681 - accuracy: 0.9570 - val_loss: 0.1640 - val_accuracy: 0.9517\n",
            "Epoch 20/50\n",
            "99/99 [==============================] - 0s 3ms/step - loss: 0.1727 - accuracy: 0.9580 - val_loss: 0.1777 - val_accuracy: 0.9402\n",
            "Epoch 21/50\n",
            "99/99 [==============================] - 0s 3ms/step - loss: 0.1693 - accuracy: 0.9567 - val_loss: 0.1721 - val_accuracy: 0.9517\n",
            "Epoch 22/50\n",
            "99/99 [==============================] - 0s 3ms/step - loss: 0.1564 - accuracy: 0.9586 - val_loss: 0.1845 - val_accuracy: 0.9517\n",
            "Epoch 23/50\n",
            "99/99 [==============================] - 0s 3ms/step - loss: 0.1622 - accuracy: 0.9583 - val_loss: 0.1600 - val_accuracy: 0.9517\n",
            "Epoch 24/50\n",
            "99/99 [==============================] - 0s 3ms/step - loss: 0.1764 - accuracy: 0.9551 - val_loss: 0.1864 - val_accuracy: 0.9517\n",
            "Epoch 25/50\n",
            "99/99 [==============================] - 0s 3ms/step - loss: 0.1621 - accuracy: 0.9580 - val_loss: 0.1942 - val_accuracy: 0.9377\n",
            "Epoch 26/50\n",
            "99/99 [==============================] - 0s 3ms/step - loss: 0.1643 - accuracy: 0.9561 - val_loss: 0.1679 - val_accuracy: 0.9517\n",
            "Epoch 27/50\n",
            "99/99 [==============================] - 0s 4ms/step - loss: 0.1697 - accuracy: 0.9538 - val_loss: 0.1617 - val_accuracy: 0.9517\n",
            "Epoch 28/50\n",
            "99/99 [==============================] - 0s 4ms/step - loss: 0.1602 - accuracy: 0.9592 - val_loss: 0.1650 - val_accuracy: 0.9529\n",
            "Epoch 29/50\n",
            "99/99 [==============================] - 0s 4ms/step - loss: 0.1636 - accuracy: 0.9570 - val_loss: 0.1815 - val_accuracy: 0.9517\n",
            "Epoch 30/50\n",
            "99/99 [==============================] - 0s 4ms/step - loss: 0.1605 - accuracy: 0.9567 - val_loss: 0.1779 - val_accuracy: 0.9517\n",
            "Epoch 31/50\n",
            "99/99 [==============================] - 0s 3ms/step - loss: 0.1603 - accuracy: 0.9573 - val_loss: 0.1719 - val_accuracy: 0.9517\n",
            "Epoch 32/50\n",
            "99/99 [==============================] - 0s 4ms/step - loss: 0.1629 - accuracy: 0.9564 - val_loss: 0.1709 - val_accuracy: 0.9491\n",
            "Epoch 33/50\n",
            "99/99 [==============================] - 0s 4ms/step - loss: 0.1623 - accuracy: 0.9567 - val_loss: 0.1616 - val_accuracy: 0.9517\n",
            "Epoch 34/50\n",
            "99/99 [==============================] - 0s 4ms/step - loss: 0.1576 - accuracy: 0.9580 - val_loss: 0.1708 - val_accuracy: 0.9517\n",
            "Epoch 35/50\n",
            "99/99 [==============================] - 0s 3ms/step - loss: 0.1542 - accuracy: 0.9580 - val_loss: 0.1661 - val_accuracy: 0.9491\n",
            "Epoch 36/50\n",
            "99/99 [==============================] - 0s 3ms/step - loss: 0.1631 - accuracy: 0.9580 - val_loss: 0.1608 - val_accuracy: 0.9517\n",
            "Epoch 37/50\n",
            "99/99 [==============================] - 0s 3ms/step - loss: 0.1541 - accuracy: 0.9564 - val_loss: 0.1753 - val_accuracy: 0.9517\n",
            "Epoch 38/50\n",
            "99/99 [==============================] - 0s 3ms/step - loss: 0.1564 - accuracy: 0.9567 - val_loss: 0.1779 - val_accuracy: 0.9453\n",
            "Epoch 39/50\n",
            "99/99 [==============================] - 0s 3ms/step - loss: 0.1613 - accuracy: 0.9573 - val_loss: 0.1969 - val_accuracy: 0.9517\n",
            "Epoch 40/50\n",
            "99/99 [==============================] - 0s 4ms/step - loss: 0.1606 - accuracy: 0.9570 - val_loss: 0.1652 - val_accuracy: 0.9517\n",
            "Epoch 41/50\n",
            "99/99 [==============================] - 0s 3ms/step - loss: 0.1503 - accuracy: 0.9583 - val_loss: 0.1824 - val_accuracy: 0.9453\n",
            "Epoch 42/50\n",
            "99/99 [==============================] - 0s 3ms/step - loss: 0.1595 - accuracy: 0.9577 - val_loss: 0.1636 - val_accuracy: 0.9517\n",
            "Epoch 43/50\n",
            "99/99 [==============================] - 0s 3ms/step - loss: 0.1507 - accuracy: 0.9589 - val_loss: 0.1652 - val_accuracy: 0.9504\n",
            "Epoch 44/50\n",
            "99/99 [==============================] - 0s 3ms/step - loss: 0.1538 - accuracy: 0.9583 - val_loss: 0.1671 - val_accuracy: 0.9517\n",
            "Epoch 45/50\n",
            "99/99 [==============================] - 0s 3ms/step - loss: 0.1590 - accuracy: 0.9564 - val_loss: 0.1624 - val_accuracy: 0.9517\n",
            "Epoch 46/50\n",
            "99/99 [==============================] - 0s 3ms/step - loss: 0.1599 - accuracy: 0.9564 - val_loss: 0.1651 - val_accuracy: 0.9529\n",
            "Epoch 47/50\n",
            "99/99 [==============================] - 0s 3ms/step - loss: 0.1488 - accuracy: 0.9583 - val_loss: 0.1583 - val_accuracy: 0.9517\n",
            "Epoch 48/50\n",
            "99/99 [==============================] - 0s 3ms/step - loss: 0.1547 - accuracy: 0.9567 - val_loss: 0.1652 - val_accuracy: 0.9529\n",
            "Epoch 49/50\n",
            "99/99 [==============================] - 0s 3ms/step - loss: 0.1513 - accuracy: 0.9583 - val_loss: 0.1605 - val_accuracy: 0.9517\n",
            "Epoch 50/50\n",
            "99/99 [==============================] - 0s 3ms/step - loss: 0.1495 - accuracy: 0.9589 - val_loss: 0.1615 - val_accuracy: 0.9517\n"
          ]
        }
      ]
    },
    {
      "cell_type": "code",
      "source": [
        "#evaluating the model on the test data\n",
        "model.evaluate(x_test, y_test)"
      ],
      "metadata": {
        "colab": {
          "base_uri": "https://localhost:8080/"
        },
        "id": "gOFzHu8bLrkk",
        "outputId": "475cf867-40c6-4687-9bbd-67d268c45a17"
      },
      "execution_count": 15,
      "outputs": [
        {
          "output_type": "stream",
          "name": "stdout",
          "text": [
            "31/31 [==============================] - 0s 2ms/step - loss: 0.1522 - accuracy: 0.9572\n"
          ]
        },
        {
          "output_type": "execute_result",
          "data": {
            "text/plain": [
              "[0.1521684229373932, 0.9572301506996155]"
            ]
          },
          "metadata": {},
          "execution_count": 15
        }
      ]
    },
    {
      "cell_type": "markdown",
      "source": [
        "Insights and conclusions: \n",
        "\n",
        "The TensorFlow model achieved a test accuracy of 96.44% and 95.72% in two tests while the Random Forest model reached a similar accuracy of 95.72% (ran on a seperate notebook). Both models demonstrate satisfactory performance in predicting stroke occurrences to the 95% confidence level, indicating that the selected data and models are effective in this predictive task. However, it's important to keep in mind that the dataset's class imbalance could have impacted the models' performance, as there waere far more entries without strokes. Despite this challenge, the results are promising and showcase the potential of machine learning models in predicting stroke cases based on the given factors.\n",
        "\n",
        "\n",
        "---\n",
        "\n",
        "\n"
      ],
      "metadata": {
        "id": "HhEBZev2ifXB"
      }
    }
  ]
}