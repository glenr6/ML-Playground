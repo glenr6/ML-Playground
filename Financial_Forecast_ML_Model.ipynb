{
  "nbformat": 4,
  "nbformat_minor": 0,
  "metadata": {
    "colab": {
      "provenance": [],
      "authorship_tag": "ABX9TyMdXwsG7iEw4pgxEKsA6Aay"
    },
    "kernelspec": {
      "name": "python3",
      "display_name": "Python 3"
    },
    "language_info": {
      "name": "python"
    }
  },
  "cells": [
    {
      "cell_type": "code",
      "execution_count": 1,
      "metadata": {
        "id": "IYa1P0azZKUO"
      },
      "outputs": [],
      "source": [
        "# import required libabries\n",
        "\n",
        "import numpy as np\n",
        "import pandas as pd\n",
        "import matplotlib.pyplot as plt\n",
        "from sklearn.preprocessing import MinMaxScaler\n",
        "from sklearn.model_selection import train_test_split\n",
        "from sklearn.metrics import mean_squared_error\n",
        "from keras.models import Sequential\n",
        "from keras.layers import Dense, LSTM"
      ]
    },
    {
      "cell_type": "code",
      "source": [
        "# initialize API for data source and collect financial data into a data frame (df)\n",
        "\n",
        "import requests\n",
        "\n",
        "api_key = '7620QLCPVPCRT9XA'\n",
        "symbol = 'TSLA'\n",
        "\n",
        "# chose a new symbol after init\n",
        "\n",
        "url = f'https://www.alphavantage.co/query?function=TIME_SERIES_DAILY_ADJUSTED&symbol={symbol}&outputsize=full&apikey={api_key}'\n",
        "response = requests.get(url)\n",
        "data = response.json()\n",
        "df = pd.DataFrame(data['Time Series (Daily)']).transpose()\n",
        "df.index = pd.to_datetime(df.index)\n",
        "df = df.sort_index()"
      ],
      "metadata": {
        "id": "Bczn-6pbZL_Y"
      },
      "execution_count": 2,
      "outputs": []
    },
    {
      "cell_type": "code",
      "source": [
        "# Preprocessing the data\n",
        "# Extract closing prices\n",
        "y = df['4. close'].values.astype(float)\n",
        "\n",
        "# Normalize the closing prices\n",
        "scaler = MinMaxScaler(feature_range=(0, 1))\n",
        "y = scaler.fit_transform(y.reshape(-1, 1))\n",
        "\n",
        "# Create the feature matrix\n",
        "X = []\n",
        "for i in range(60, len(df)):\n",
        "    X.append(y[i-60:i, 0])\n",
        "X = np.array(X)\n",
        "\n",
        "# split data into training data and testing data\n",
        "X_train, X_val, y_train, y_val = train_test_split(X, y[60:], test_size=0.2, shuffle=False)"
      ],
      "metadata": {
        "id": "ZZ_YW39JZMBB"
      },
      "execution_count": 3,
      "outputs": []
    },
    {
      "cell_type": "code",
      "source": [
        "# Define the model paramaters\n",
        "model = Sequential()\n",
        "model.add(LSTM(units=50, return_sequences=True, input_shape=(X_train.shape[1], 1)))\n",
        "model.add(LSTM(units=50))\n",
        "model.add(Dense(units=1))"
      ],
      "metadata": {
        "id": "FiplIFvQZMD8"
      },
      "execution_count": 4,
      "outputs": []
    },
    {
      "cell_type": "code",
      "source": [
        "# compile the model\n",
        "model.compile(optimizer='adam', loss='mean_squared_error')"
      ],
      "metadata": {
        "id": "E_5o8B8sZMFc"
      },
      "execution_count": 5,
      "outputs": []
    },
    {
      "cell_type": "code",
      "source": [
        "# Train the model\n",
        "model.fit(X_train, y_train, epochs=100, batch_size=32, validation_data=(X_val, y_val))"
      ],
      "metadata": {
        "colab": {
          "base_uri": "https://localhost:8080/"
        },
        "id": "1EIOxS4ZZMIC",
        "outputId": "267d4926-06e0-4f74-c362-9c831a8c94b8"
      },
      "execution_count": 6,
      "outputs": [
        {
          "output_type": "stream",
          "name": "stdout",
          "text": [
            "Epoch 1/100\n",
            "79/79 [==============================] - 16s 85ms/step - loss: 0.0030 - val_loss: 0.0015\n",
            "Epoch 2/100\n",
            "79/79 [==============================] - 6s 77ms/step - loss: 0.0014 - val_loss: 0.0011\n",
            "Epoch 3/100\n",
            "79/79 [==============================] - 6s 73ms/step - loss: 0.0012 - val_loss: 0.0021\n",
            "Epoch 4/100\n",
            "79/79 [==============================] - 6s 79ms/step - loss: 0.0010 - val_loss: 8.2273e-04\n",
            "Epoch 5/100\n",
            "79/79 [==============================] - 6s 72ms/step - loss: 8.2531e-04 - val_loss: 0.0021\n",
            "Epoch 6/100\n",
            "79/79 [==============================] - 6s 81ms/step - loss: 7.6482e-04 - val_loss: 0.0011\n",
            "Epoch 7/100\n",
            "79/79 [==============================] - 6s 71ms/step - loss: 6.2707e-04 - val_loss: 7.8185e-04\n",
            "Epoch 8/100\n",
            "79/79 [==============================] - 7s 86ms/step - loss: 6.1656e-04 - val_loss: 0.0011\n",
            "Epoch 9/100\n",
            "79/79 [==============================] - 7s 88ms/step - loss: 5.9280e-04 - val_loss: 5.3867e-04\n",
            "Epoch 10/100\n",
            "79/79 [==============================] - 7s 83ms/step - loss: 4.7698e-04 - val_loss: 7.9882e-04\n",
            "Epoch 11/100\n",
            "79/79 [==============================] - 5s 67ms/step - loss: 4.7961e-04 - val_loss: 4.9129e-04\n",
            "Epoch 12/100\n",
            "79/79 [==============================] - 7s 89ms/step - loss: 4.2841e-04 - val_loss: 7.2177e-04\n",
            "Epoch 13/100\n",
            "79/79 [==============================] - 6s 76ms/step - loss: 4.1967e-04 - val_loss: 8.7052e-04\n",
            "Epoch 14/100\n",
            "79/79 [==============================] - 6s 82ms/step - loss: 4.0628e-04 - val_loss: 5.3548e-04\n",
            "Epoch 15/100\n",
            "79/79 [==============================] - 6s 79ms/step - loss: 4.3086e-04 - val_loss: 7.0770e-04\n",
            "Epoch 16/100\n",
            "79/79 [==============================] - 7s 86ms/step - loss: 4.3720e-04 - val_loss: 5.0096e-04\n",
            "Epoch 17/100\n",
            "79/79 [==============================] - 6s 71ms/step - loss: 4.5624e-04 - val_loss: 6.1301e-04\n",
            "Epoch 18/100\n",
            "79/79 [==============================] - 7s 83ms/step - loss: 5.7867e-04 - val_loss: 6.4601e-04\n",
            "Epoch 19/100\n",
            "79/79 [==============================] - 5s 67ms/step - loss: 3.9475e-04 - val_loss: 6.7735e-04\n",
            "Epoch 20/100\n",
            "79/79 [==============================] - 6s 82ms/step - loss: 4.1232e-04 - val_loss: 6.3662e-04\n",
            "Epoch 21/100\n",
            "79/79 [==============================] - 5s 65ms/step - loss: 3.6236e-04 - val_loss: 4.9194e-04\n",
            "Epoch 22/100\n",
            "79/79 [==============================] - 6s 77ms/step - loss: 3.5620e-04 - val_loss: 6.7601e-04\n",
            "Epoch 23/100\n",
            "79/79 [==============================] - 6s 74ms/step - loss: 4.1720e-04 - val_loss: 5.8922e-04\n",
            "Epoch 24/100\n",
            "79/79 [==============================] - 5s 69ms/step - loss: 3.7568e-04 - val_loss: 4.9455e-04\n",
            "Epoch 25/100\n",
            "79/79 [==============================] - 6s 78ms/step - loss: 4.0653e-04 - val_loss: 4.1935e-04\n",
            "Epoch 26/100\n",
            "79/79 [==============================] - 5s 65ms/step - loss: 4.0235e-04 - val_loss: 5.2157e-04\n",
            "Epoch 27/100\n",
            "79/79 [==============================] - 6s 81ms/step - loss: 3.4536e-04 - val_loss: 9.1143e-04\n",
            "Epoch 28/100\n",
            "79/79 [==============================] - 5s 66ms/step - loss: 3.6673e-04 - val_loss: 4.7396e-04\n",
            "Epoch 29/100\n",
            "79/79 [==============================] - 6s 81ms/step - loss: 3.2475e-04 - val_loss: 8.4672e-04\n",
            "Epoch 30/100\n",
            "79/79 [==============================] - 5s 67ms/step - loss: 3.3060e-04 - val_loss: 5.8415e-04\n",
            "Epoch 31/100\n",
            "79/79 [==============================] - 7s 84ms/step - loss: 6.2188e-04 - val_loss: 4.5347e-04\n",
            "Epoch 32/100\n",
            "79/79 [==============================] - 5s 68ms/step - loss: 4.3821e-04 - val_loss: 3.7931e-04\n",
            "Epoch 33/100\n",
            "79/79 [==============================] - 6s 78ms/step - loss: 3.4517e-04 - val_loss: 4.0722e-04\n",
            "Epoch 34/100\n",
            "79/79 [==============================] - 6s 72ms/step - loss: 3.3931e-04 - val_loss: 3.9635e-04\n",
            "Epoch 35/100\n",
            "79/79 [==============================] - 6s 71ms/step - loss: 3.8241e-04 - val_loss: 4.1533e-04\n",
            "Epoch 36/100\n",
            "79/79 [==============================] - 9s 112ms/step - loss: 3.0015e-04 - val_loss: 4.1620e-04\n",
            "Epoch 37/100\n",
            "79/79 [==============================] - 8s 100ms/step - loss: 3.1932e-04 - val_loss: 6.5854e-04\n",
            "Epoch 38/100\n",
            "79/79 [==============================] - 6s 70ms/step - loss: 3.4294e-04 - val_loss: 4.2754e-04\n",
            "Epoch 39/100\n",
            "79/79 [==============================] - 6s 82ms/step - loss: 2.8648e-04 - val_loss: 6.3873e-04\n",
            "Epoch 40/100\n",
            "79/79 [==============================] - 5s 66ms/step - loss: 4.1644e-04 - val_loss: 4.9083e-04\n",
            "Epoch 41/100\n",
            "79/79 [==============================] - 7s 85ms/step - loss: 3.3488e-04 - val_loss: 5.1590e-04\n",
            "Epoch 42/100\n",
            "79/79 [==============================] - 6s 72ms/step - loss: 2.9572e-04 - val_loss: 7.7497e-04\n",
            "Epoch 43/100\n",
            "79/79 [==============================] - 6s 81ms/step - loss: 2.9348e-04 - val_loss: 5.7799e-04\n",
            "Epoch 44/100\n",
            "79/79 [==============================] - 5s 70ms/step - loss: 3.0636e-04 - val_loss: 7.7413e-04\n",
            "Epoch 45/100\n",
            "79/79 [==============================] - 6s 73ms/step - loss: 2.8341e-04 - val_loss: 3.6737e-04\n",
            "Epoch 46/100\n",
            "79/79 [==============================] - 6s 77ms/step - loss: 2.9042e-04 - val_loss: 3.9075e-04\n",
            "Epoch 47/100\n",
            "79/79 [==============================] - 5s 67ms/step - loss: 3.0685e-04 - val_loss: 4.1940e-04\n",
            "Epoch 48/100\n",
            "79/79 [==============================] - 6s 81ms/step - loss: 3.2995e-04 - val_loss: 3.7250e-04\n",
            "Epoch 49/100\n",
            "79/79 [==============================] - 5s 67ms/step - loss: 3.0737e-04 - val_loss: 6.2137e-04\n",
            "Epoch 50/100\n",
            "79/79 [==============================] - 6s 81ms/step - loss: 2.9406e-04 - val_loss: 3.6620e-04\n",
            "Epoch 51/100\n",
            "79/79 [==============================] - 6s 71ms/step - loss: 2.9204e-04 - val_loss: 3.6538e-04\n",
            "Epoch 52/100\n",
            "79/79 [==============================] - 7s 87ms/step - loss: 2.8304e-04 - val_loss: 6.2582e-04\n",
            "Epoch 53/100\n",
            "79/79 [==============================] - 6s 70ms/step - loss: 3.8946e-04 - val_loss: 5.8271e-04\n",
            "Epoch 54/100\n",
            "79/79 [==============================] - 7s 85ms/step - loss: 3.6676e-04 - val_loss: 4.7191e-04\n",
            "Epoch 55/100\n",
            "79/79 [==============================] - 6s 70ms/step - loss: 3.2778e-04 - val_loss: 3.4611e-04\n",
            "Epoch 56/100\n",
            "79/79 [==============================] - 6s 82ms/step - loss: 3.1572e-04 - val_loss: 3.4680e-04\n",
            "Epoch 57/100\n",
            "79/79 [==============================] - 6s 72ms/step - loss: 2.6862e-04 - val_loss: 4.5292e-04\n",
            "Epoch 58/100\n",
            "79/79 [==============================] - 6s 81ms/step - loss: 2.9887e-04 - val_loss: 5.0826e-04\n",
            "Epoch 59/100\n",
            "79/79 [==============================] - 6s 72ms/step - loss: 2.7937e-04 - val_loss: 3.9783e-04\n",
            "Epoch 60/100\n",
            "79/79 [==============================] - 6s 73ms/step - loss: 2.5005e-04 - val_loss: 4.6141e-04\n",
            "Epoch 61/100\n",
            "79/79 [==============================] - 6s 74ms/step - loss: 2.5836e-04 - val_loss: 3.7322e-04\n",
            "Epoch 62/100\n",
            "79/79 [==============================] - 5s 69ms/step - loss: 3.0006e-04 - val_loss: 5.9210e-04\n",
            "Epoch 63/100\n",
            "79/79 [==============================] - 6s 81ms/step - loss: 2.7034e-04 - val_loss: 4.4292e-04\n",
            "Epoch 64/100\n",
            "79/79 [==============================] - 6s 70ms/step - loss: 2.3989e-04 - val_loss: 3.2394e-04\n",
            "Epoch 65/100\n",
            "79/79 [==============================] - 7s 84ms/step - loss: 2.7852e-04 - val_loss: 5.0116e-04\n",
            "Epoch 66/100\n",
            "79/79 [==============================] - 5s 69ms/step - loss: 2.9406e-04 - val_loss: 3.1116e-04\n",
            "Epoch 67/100\n",
            "79/79 [==============================] - 8s 103ms/step - loss: 2.9677e-04 - val_loss: 3.3651e-04\n",
            "Epoch 68/100\n",
            "79/79 [==============================] - 6s 72ms/step - loss: 2.5171e-04 - val_loss: 3.9532e-04\n",
            "Epoch 69/100\n",
            "79/79 [==============================] - 7s 86ms/step - loss: 2.8394e-04 - val_loss: 4.7090e-04\n",
            "Epoch 70/100\n",
            "79/79 [==============================] - 5s 67ms/step - loss: 2.9466e-04 - val_loss: 3.6799e-04\n",
            "Epoch 71/100\n",
            "79/79 [==============================] - 6s 80ms/step - loss: 2.7863e-04 - val_loss: 3.9692e-04\n",
            "Epoch 72/100\n",
            "79/79 [==============================] - 6s 76ms/step - loss: 2.8473e-04 - val_loss: 6.0025e-04\n",
            "Epoch 73/100\n",
            "79/79 [==============================] - 6s 76ms/step - loss: 3.2201e-04 - val_loss: 8.5612e-04\n",
            "Epoch 74/100\n",
            "79/79 [==============================] - 6s 74ms/step - loss: 2.8860e-04 - val_loss: 3.2144e-04\n",
            "Epoch 75/100\n",
            "79/79 [==============================] - 6s 70ms/step - loss: 2.7314e-04 - val_loss: 3.0551e-04\n",
            "Epoch 76/100\n",
            "79/79 [==============================] - 6s 79ms/step - loss: 2.7005e-04 - val_loss: 2.9803e-04\n",
            "Epoch 77/100\n",
            "79/79 [==============================] - 6s 71ms/step - loss: 2.7720e-04 - val_loss: 3.2363e-04\n",
            "Epoch 78/100\n",
            "79/79 [==============================] - 7s 83ms/step - loss: 2.5751e-04 - val_loss: 3.1231e-04\n",
            "Epoch 79/100\n",
            "79/79 [==============================] - 6s 70ms/step - loss: 2.7296e-04 - val_loss: 3.0288e-04\n",
            "Epoch 80/100\n",
            "79/79 [==============================] - 6s 82ms/step - loss: 2.5761e-04 - val_loss: 3.1523e-04\n",
            "Epoch 81/100\n",
            "79/79 [==============================] - 5s 67ms/step - loss: 2.5350e-04 - val_loss: 3.1754e-04\n",
            "Epoch 82/100\n",
            "79/79 [==============================] - 6s 81ms/step - loss: 2.6270e-04 - val_loss: 5.3442e-04\n",
            "Epoch 83/100\n",
            "79/79 [==============================] - 6s 71ms/step - loss: 2.4743e-04 - val_loss: 6.7158e-04\n",
            "Epoch 84/100\n",
            "79/79 [==============================] - 6s 81ms/step - loss: 2.5833e-04 - val_loss: 3.3305e-04\n",
            "Epoch 85/100\n",
            "79/79 [==============================] - 5s 66ms/step - loss: 2.5910e-04 - val_loss: 3.9912e-04\n",
            "Epoch 86/100\n",
            "79/79 [==============================] - 6s 75ms/step - loss: 3.1962e-04 - val_loss: 3.6687e-04\n",
            "Epoch 87/100\n",
            "79/79 [==============================] - 6s 72ms/step - loss: 3.0175e-04 - val_loss: 4.6048e-04\n",
            "Epoch 88/100\n",
            "79/79 [==============================] - 6s 71ms/step - loss: 2.7600e-04 - val_loss: 5.1320e-04\n",
            "Epoch 89/100\n",
            "79/79 [==============================] - 7s 83ms/step - loss: 2.5074e-04 - val_loss: 4.7267e-04\n",
            "Epoch 90/100\n",
            "79/79 [==============================] - 6s 70ms/step - loss: 2.5372e-04 - val_loss: 3.3538e-04\n",
            "Epoch 91/100\n",
            "79/79 [==============================] - 7s 85ms/step - loss: 2.6131e-04 - val_loss: 6.8133e-04\n",
            "Epoch 92/100\n",
            "79/79 [==============================] - 6s 72ms/step - loss: 2.6748e-04 - val_loss: 4.7127e-04\n",
            "Epoch 93/100\n",
            "79/79 [==============================] - 6s 81ms/step - loss: 2.3963e-04 - val_loss: 3.6084e-04\n",
            "Epoch 94/100\n",
            "79/79 [==============================] - 5s 66ms/step - loss: 2.3543e-04 - val_loss: 7.3960e-04\n",
            "Epoch 95/100\n",
            "79/79 [==============================] - 6s 80ms/step - loss: 2.5436e-04 - val_loss: 4.2521e-04\n",
            "Epoch 96/100\n",
            "79/79 [==============================] - 6s 70ms/step - loss: 2.6611e-04 - val_loss: 4.6271e-04\n",
            "Epoch 97/100\n",
            "79/79 [==============================] - 7s 92ms/step - loss: 3.0766e-04 - val_loss: 4.6687e-04\n",
            "Epoch 98/100\n",
            "79/79 [==============================] - 6s 72ms/step - loss: 2.8912e-04 - val_loss: 4.7377e-04\n",
            "Epoch 99/100\n",
            "79/79 [==============================] - 6s 73ms/step - loss: 2.5528e-04 - val_loss: 3.6383e-04\n",
            "Epoch 100/100\n",
            "79/79 [==============================] - 6s 76ms/step - loss: 2.5150e-04 - val_loss: 3.6488e-04\n"
          ]
        },
        {
          "output_type": "execute_result",
          "data": {
            "text/plain": [
              "<keras.callbacks.History at 0x7f6a9e0d2310>"
            ]
          },
          "metadata": {},
          "execution_count": 6
        }
      ]
    },
    {
      "cell_type": "code",
      "source": [
        "# Evaluate the model on the validation set\n",
        "y_pred = model.predict(X_val)\n",
        "rmse = np.sqrt(mean_squared_error(y_val, y_pred))\n",
        "print('Root Mean Squared Error:', rmse)"
      ],
      "metadata": {
        "colab": {
          "base_uri": "https://localhost:8080/"
        },
        "id": "21hn9mCbZMJz",
        "outputId": "c945565f-6456-45c8-ce38-f14b95d81df3"
      },
      "execution_count": 7,
      "outputs": [
        {
          "output_type": "stream",
          "name": "stdout",
          "text": [
            "20/20 [==============================] - 2s 27ms/step\n",
            "Root Mean Squared Error: 0.01910172383488712\n"
          ]
        }
      ]
    },
    {
      "cell_type": "code",
      "source": [
        "# Visualize the results\n",
        "y_pred = scaler.inverse_transform(y_pred)\n",
        "y_val = scaler.inverse_transform(y_val)\n",
        "plt.plot(y_val, label='Actual')\n",
        "plt.plot(y_pred, label='Predicted')\n",
        "plt.title('Model predicted price')\n",
        "plt.legend()\n",
        "plt.show()"
      ],
      "metadata": {
        "colab": {
          "base_uri": "https://localhost:8080/",
          "height": 452
        },
        "id": "OmpVXOmabO78",
        "outputId": "53abe922-729f-4b72-fe33-0e846a4f230d"
      },
      "execution_count": 15,
      "outputs": [
        {
          "output_type": "display_data",
          "data": {
            "text/plain": [
              "<Figure size 640x480 with 1 Axes>"
            ],
            "image/png": "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\n"
          },
          "metadata": {}
        }
      ]
    },
    {
      "cell_type": "code",
      "source": [
        "# test the model with another set of data\n" 
        "last_60_days = y[-60:] \n",
        "last_60_days_scaled = scaler.transform(last_60_days.reshape(-1, 1))\n",
        "X_test = []\n",
        "X_test.append(last_60_days_scaled)\n",
        "X_test = np.array(X_test)\n",
        "X_test = np.reshape(X_test, (1, X_test.shape[1], 1))  # Reshape to (1, timesteps, features)\n",
        "\n",
        "\n",
        "y_pred = model.predict(X_test, batch_size=1)\n",
        "y_pred = scaler.inverse_transform(y_pred)\n",
        "print('Predicted price:', y_pred[0][0])"
      ],
      "metadata": {
        "id": "O2kwgVOPkOwB"
      },
      "execution_count": null,
      "outputs": []
    }
  ]
}
